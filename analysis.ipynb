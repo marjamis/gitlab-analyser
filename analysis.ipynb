{
 "cells": [
  {
   "cell_type": "code",
   "execution_count": 1,
   "metadata": {},
   "outputs": [],
   "source": [
    "from matplotlib import pyplot as plt\n",
    "import pandas as pd\n",
    "import os\n",
    "import numpy as np\n",
    "import datetime\n",
    "from IPython.display import display, Markdown\n",
    "\n",
    "branches = pd.read_csv(\"./data/output.csv\")\n",
    "pipeline_schedules = pd.read_csv(\"./data/schedules.csv\")"
   ]
  },
  {
   "cell_type": "markdown",
   "metadata": {},
   "source": [
    "## Graphs\n",
    "\n",
    "### Breakdown of the age of branches (including default) "
   ]
  },
  {
   "cell_type": "code",
   "execution_count": 2,
   "metadata": {},
   "outputs": [
    {
     "data": {
      "image/png": "[encoded data removed]",
      "text/plain": [
       "<Figure size 2000x300 with 1 Axes>"
      ]
     },
     "metadata": {},
     "output_type": "display_data"
    }
   ],
   "source": [
    "branches[\"Last Commit Age\"] = [(datetime.datetime.now() - datetime.datetime.strptime(branches.at[row_index, \"Last Commit Authored Date\"], \"%Y-%m-%dT%H:%M:%S+00:00\")).days for row_index in range(len(branches))]\n",
    "\n",
    "bins = [-1, 2, 18, 35, 65, np.inf]\n",
    "names = ['0-2', '3-18', '19-35', '36-65', '65+']\n",
    "# right=True means the right of the two values is counted in the bin. For example the number 18 is in the 3-18 bin\n",
    "branches[\"Last Commit Age Bucket\"] = pd.cut(branches['Last Commit Age'], bins, right=True, labels=names)\n",
    "\n",
    "new_data = pd.DataFrame({\n",
    "    \"Bucket\": names,\n",
    "    \"Bucket Count\": branches[\"Last Commit Age Bucket\"].value_counts(),\n",
    "})\n",
    "\n",
    "fig, ax = plt.subplots(1, 1, figsize=(20,3))\n",
    "\n",
    "ax.bar(new_data[\"Bucket\"],new_data[\"Bucket Count\"], color='blue')\n",
    "\n",
    "ax.set_xlabel(\"Age of Branches\")\n",
    "ax.set_xticks(new_data[\"Bucket\"])\n",
    "\n",
    "ax.set_ylabel(\"Count of branches\")\n",
    "max_count = new_data[\"Bucket Count\"].max()\n",
    "ax.set_yticks(np.arange(0, max_count + (max_count * .30)))\n",
    "\n",
    "plt.show()\n"
   ]
  },
  {
   "cell_type": "code",
   "execution_count": 60,
   "metadata": {},
   "outputs": [
    {
     "data": {
      "text/markdown": [
       "## Top 20 Usernames with the greatest number of schedules jobs associated"
      ],
      "text/plain": [
       "<IPython.core.display.Markdown object>"
      ]
     },
     "metadata": {},
     "output_type": "display_data"
    },
    {
     "data": {
      "text/html": [
       "<div>\n",
       "<style scoped>\n",
       "    .dataframe tbody tr th:only-of-type {\n",
       "        vertical-align: middle;\n",
       "    }\n",
       "\n",
       "    .dataframe tbody tr th {\n",
       "        vertical-align: top;\n",
       "    }\n",
       "\n",
       "    .dataframe thead th {\n",
       "        text-align: right;\n",
       "    }\n",
       "</style>\n",
       "<table border=\"1\" class=\"dataframe\">\n",
       "  <thead>\n",
       "    <tr style=\"text-align: right;\">\n",
       "      <th></th>\n",
       "      <th>Count</th>\n",
       "      <th>Is Active?</th>\n",
       "      <th>Email Address</th>\n",
       "    </tr>\n",
       "  </thead>\n",
       "  <tbody>\n",
       "    <tr>\n",
       "      <th>root</th>\n",
       "      <td>1</td>\n",
       "      <td>True</td>\n",
       "      <td>NaN</td>\n",
       "    </tr>\n",
       "  </tbody>\n",
       "</table>\n",
       "</div>"
      ],
      "text/plain": [
       "      Count  Is Active?  Email Address\n",
       "root      1        True            NaN"
      ]
     },
     "execution_count": 60,
     "metadata": {},
     "output_type": "execute_result"
    }
   ],
   "source": [
    "counts = pipeline_schedules[\"Pipeline Schedule Owner Username\"].value_counts()\n",
    "\n",
    "pipeline_schedule_count = pd.DataFrame({\n",
    "    \"Count\": counts,\n",
    "    \"Is Active?\": [ pipeline_schedules[pipeline_schedules[\"Pipeline Schedule Owner Username\"] == key].iloc[0][\"Pipeline Schedule Is Active?\"] for key in counts.keys()],\n",
    "    \"Email Address\": [ pipeline_schedules[pipeline_schedules[\"Pipeline Schedule Owner Username\"] == key].iloc[0][\"Pipeline Schedule Owner Public Email\"] for key in counts.keys()],\n",
    "})\n",
    "\n",
    "number_of_items_to_display = 20\n",
    "display(Markdown(f\"## Top {number_of_items_to_display} Usernames with the greatest number of schedules jobs associated\"))\n",
    "pipeline_schedule_count.sort_values(by=\"Count\").head(20)\n"
   ]
  },
  {
   "cell_type": "code",
   "execution_count": 59,
   "metadata": {},
   "outputs": [
    {
     "data": {
      "text/markdown": [
       "## Top 20 projects sorted by the number of open branches"
      ],
      "text/plain": [
       "<IPython.core.display.Markdown object>"
      ]
     },
     "metadata": {},
     "output_type": "display_data"
    },
    {
     "data": {
      "text/html": [
       "<style type=\"text/css\">\n",
       "</style>\n",
       "<table id=\"T_3908b\">\n",
       "  <thead>\n",
       "    <tr>\n",
       "      <th id=\"T_3908b_level0_col0\" class=\"col_heading level0 col0\" >Project Name</th>\n",
       "      <th id=\"T_3908b_level0_col1\" class=\"col_heading level0 col1\" >Number of Branches</th>\n",
       "      <th id=\"T_3908b_level0_col2\" class=\"col_heading level0 col2\" >Last Commit Branch</th>\n",
       "      <th id=\"T_3908b_level0_col3\" class=\"col_heading level0 col3\" >Last Commit Authored Date</th>\n",
       "      <th id=\"T_3908b_level0_col4\" class=\"col_heading level0 col4\" >Last Commit Title</th>\n",
       "      <th id=\"T_3908b_level0_col5\" class=\"col_heading level0 col5\" >Last Commit Author</th>\n",
       "    </tr>\n",
       "  </thead>\n",
       "  <tbody>\n",
       "    <tr>\n",
       "      <td id=\"T_3908b_row0_col0\" class=\"data row0 col0\" >test</td>\n",
       "      <td id=\"T_3908b_row0_col1\" class=\"data row0 col1\" >2</td>\n",
       "      <td id=\"T_3908b_row0_col2\" class=\"data row0 col2\" >new-branch-yea</td>\n",
       "      <td id=\"T_3908b_row0_col3\" class=\"data row0 col3\" >2023-03-24T06:35:52+00:00</td>\n",
       "      <td id=\"T_3908b_row0_col4\" class=\"data row0 col4\" >Update README.md</td>\n",
       "      <td id=\"T_3908b_row0_col5\" class=\"data row0 col5\" >Administrator</td>\n",
       "    </tr>\n",
       "    <tr>\n",
       "      <td id=\"T_3908b_row1_col0\" class=\"data row1 col0\" >A New Groups Project</td>\n",
       "      <td id=\"T_3908b_row1_col1\" class=\"data row1 col1\" >1</td>\n",
       "      <td id=\"T_3908b_row1_col2\" class=\"data row1 col2\" >main</td>\n",
       "      <td id=\"T_3908b_row1_col3\" class=\"data row1 col3\" >2023-03-24T05:15:59+00:00</td>\n",
       "      <td id=\"T_3908b_row1_col4\" class=\"data row1 col4\" >Initial commit</td>\n",
       "      <td id=\"T_3908b_row1_col5\" class=\"data row1 col5\" >Administrator</td>\n",
       "    </tr>\n",
       "    <tr>\n",
       "      <td id=\"T_3908b_row2_col0\" class=\"data row2 col0\" >Monitoring</td>\n",
       "      <td id=\"T_3908b_row2_col1\" class=\"data row2 col1\" >1</td>\n",
       "      <td id=\"T_3908b_row2_col2\" class=\"data row2 col2\" >main</td>\n",
       "      <td id=\"T_3908b_row2_col3\" class=\"data row2 col3\" >2023-03-21T06:40:39+00:00</td>\n",
       "      <td id=\"T_3908b_row2_col4\" class=\"data row2 col4\" >Update .gitlab-ci.yml file</td>\n",
       "      <td id=\"T_3908b_row2_col5\" class=\"data row2 col5\" >Administrator</td>\n",
       "    </tr>\n",
       "  </tbody>\n",
       "</table>\n"
      ],
      "text/plain": [
       "<pandas.io.formats.style.Styler at 0x7f538f237700>"
      ]
     },
     "metadata": {},
     "output_type": "display_data"
    }
   ],
   "source": [
    "projects = branches[\"Project Name\"].unique()\n",
    "number_of_branches = []\n",
    "last_commit_authored_date = []\n",
    "last_commit_author = []\n",
    "last_commit_title = []\n",
    "last_commit_branch = []\n",
    "\n",
    "for project in projects:\n",
    "    number_of_branches.append(branches[\"Project Name\"].value_counts()[project])\n",
    "\n",
    "    commit_details = pd.DataFrame(branches[branches[\"Project Name\"] == project]).sort_values(by=\"Last Commit Authored Date\", ascending=False).iloc[0]\n",
    "\n",
    "    last_commit_authored_date.append(commit_details[\"Last Commit Authored Date\"])\n",
    "    last_commit_author.append(commit_details[\"Last Commit Author\"])\n",
    "    last_commit_title.append(commit_details[\"Last Commit Title\"])\n",
    "    last_commit_branch.append(commit_details[\"Branch Name\"])\n",
    "\n",
    "branch_count_df = pd.DataFrame({\n",
    "    \"Project Name\": projects,\n",
    "    \"Number of Branches\": number_of_branches,\n",
    "    \"Last Commit Branch\": last_commit_branch,\n",
    "    \"Last Commit Authored Date\": last_commit_authored_date,\n",
    "    \"Last Commit Title\": last_commit_title,\n",
    "    \"Last Commit Author\": last_commit_author,\n",
    "})\n",
    "\n",
    "number_of_items_to_display = 20\n",
    "display(Markdown(f\"## Top {number_of_items_to_display} projects sorted by the number of open branches\"))\n",
    "display(branch_count_df.sort_values(by=\"Number of Branches\", ascending=False).head(number_of_items_to_display).style.hide(axis=\"index\"))"
   ]
  }
 ],
 "metadata": {
  "kernelspec": {
   "display_name": "Python 3.10.9 ('.venv': venv)",
   "language": "python",
   "name": "python3"
  },
  "language_info": {
   "codemirror_mode": {
    "name": "ipython",
    "version": 3
   },
   "file_extension": ".py",
   "mimetype": "text/x-python",
   "name": "python",
   "nbconvert_exporter": "python",
   "pygments_lexer": "ipython3",
   "version": "3.10.10"
  },
  "orig_nbformat": 4,
  "vscode": {
   "interpreter": {
    "hash": "bf690c1aef60c06ae41e90d4f4f50ba8f188063ed87dab0a2397d808bdfa5d9f"
   }
  }
 },
 "nbformat": 4,
 "nbformat_minor": 2
}
